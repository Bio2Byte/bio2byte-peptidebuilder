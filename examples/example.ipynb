{
 "cells": [
  {
   "cell_type": "code",
   "execution_count": 2,
   "metadata": {},
   "outputs": [],
   "source": [
    "# Import the library\n",
    "from Bio.PDB import PDBIO\n",
    "import bio2byte.PeptideBuilder as PeptideBuilder\n",
    "from bio2byte.PeptideBuilder import Geometry\n",
    "\n",
    "# Dihedral angles for an alpha-helix\n",
    "helix_phipsi = (-60., -40.)\n",
    "\n",
    "# Sequence (case insensitive)\n",
    "sequence = \"LYS-GLY-GLU-ARG-GLN-SEP-ALA-VAL-ASP-ILE-ASP\".split(\"-\")"
   ]
  },
  {
   "cell_type": "code",
   "execution_count": 3,
   "metadata": {},
   "outputs": [],
   "source": [
    "# Build peptide\n",
    "structure = PeptideBuilder.initialize_ACE()\n",
    "for res in sequence:\n",
    "    geo = Geometry.geometry(res)\n",
    "    geo.phi, geo.psi_im1 = helix_phipsi\n",
    "    PeptideBuilder.add_residue(structure, geo)\n",
    "PeptideBuilder.add_terminal_NME(structure)\n",
    "\n",
    "# Write to PDB file\n",
    "pdbwriter = PDBIO()\n",
    "pdbwriter.set_structure(structure)\n",
    "pdbwriter.save(\"peptide.pdb\")"
   ]
  },
  {
   "cell_type": "code",
   "execution_count": null,
   "metadata": {},
   "outputs": [],
   "source": []
  }
 ],
 "metadata": {
  "kernelspec": {
   "display_name": "Python 3.8",
   "language": "python",
   "name": "py38"
  },
  "language_info": {
   "codemirror_mode": {
    "name": "ipython",
    "version": 3
   },
   "file_extension": ".py",
   "mimetype": "text/x-python",
   "name": "python",
   "nbconvert_exporter": "python",
   "pygments_lexer": "ipython3",
   "version": "3.8.18"
  }
 },
 "nbformat": 4,
 "nbformat_minor": 2
}
